{
 "cells": [
  {
   "cell_type": "markdown",
   "id": "379c92ce",
   "metadata": {},
   "source": [
    "# Name: Siddhesh Badhan\n",
    "Andrew ID: sbadhan"
   ]
  },
  {
   "cell_type": "markdown",
   "id": "f7d09f6c",
   "metadata": {},
   "source": [
    "Task 1: Perform exploratory data analysis (for example, summary statistics and histograms on the \n",
    "numeric fields) on the sentiment field and indicate if you foresee any problems using the data \n",
    "to build a model to predict sentiment. "
   ]
  },
  {
   "cell_type": "code",
   "execution_count": 1,
   "id": "82278d9b",
   "metadata": {},
   "outputs": [],
   "source": [
    "import re                     #regular expressions\n",
    "import string\n",
    "import spacy              #natural language processing\n",
    "import pandas as pd\n",
    "import numpy as np\n",
    "import matplotlib.pyplot as plt\n",
    "import nltk\n",
    "import itertools\n",
    "import seaborn as sns\n",
    "\n",
    "from nltk import tokenize # fast sentence tokenization\n",
    "from nltk.corpus import stopwords\n",
    "from nltk.tokenize import TweetTokenizer\n",
    "from nltk.tokenize import word_tokenize\n",
    "from nltk.stem import WordNetLemmatizer\n",
    "from nltk.sentiment.vader import SentimentIntensityAnalyzer\n",
    "from nltk.stem import PorterStemmer\n",
    "\n",
    "from collections import Counter\n",
    "from sklearn.model_selection import train_test_split\n",
    "from sklearn.feature_extraction.text import CountVectorizer\n",
    "from sklearn.linear_model import LinearRegression\n",
    "from sklearn.preprocessing import LabelEncoder\n",
    "\n",
    "from sklearn.metrics import mean_squared_error, r2_score\n",
    "from sklearn.feature_extraction.text import TfidfVectorizer\n",
    "from sklearn.model_selection import train_test_split\n",
    "from sklearn.naive_bayes import MultinomialNB\n",
    "from sklearn.metrics import accuracy_score, confusion_matrix\n",
    "from sklearn.metrics import classification_report\n",
    "\n",
    "from sklearn.pipeline import Pipeline\n",
    "from sklearn.linear_model import LogisticRegression\n",
    "from sklearn.svm import LinearSVC"
   ]
  },
  {
   "cell_type": "code",
   "execution_count": 2,
   "id": "a579bdb8",
   "metadata": {},
   "outputs": [],
   "source": [
    "# Load data\n",
    "data = pd.read_csv(\"/Twitter-sentiment-self-drive-DFE.csv\", encoding='ISO-8859-1')"
   ]
  },
  {
   "cell_type": "code",
   "execution_count": 3,
   "id": "3f09f5c1",
   "metadata": {},
   "outputs": [
    {
     "data": {
      "text/html": [
       "<div>\n",
       "<style scoped>\n",
       "    .dataframe tbody tr th:only-of-type {\n",
       "        vertical-align: middle;\n",
       "    }\n",
       "\n",
       "    .dataframe tbody tr th {\n",
       "        vertical-align: top;\n",
       "    }\n",
       "\n",
       "    .dataframe thead th {\n",
       "        text-align: right;\n",
       "    }\n",
       "</style>\n",
       "<table border=\"1\" class=\"dataframe\">\n",
       "  <thead>\n",
       "    <tr style=\"text-align: right;\">\n",
       "      <th></th>\n",
       "      <th>_unit_id</th>\n",
       "      <th>_golden</th>\n",
       "      <th>_unit_state</th>\n",
       "      <th>_trusted_judgments</th>\n",
       "      <th>_last_judgment_at</th>\n",
       "      <th>sentiment</th>\n",
       "      <th>sentiment:confidence</th>\n",
       "      <th>our_id</th>\n",
       "      <th>sentiment_gold</th>\n",
       "      <th>sentiment_gold_reason</th>\n",
       "      <th>text</th>\n",
       "    </tr>\n",
       "  </thead>\n",
       "  <tbody>\n",
       "    <tr>\n",
       "      <th>0</th>\n",
       "      <td>724227031</td>\n",
       "      <td>True</td>\n",
       "      <td>golden</td>\n",
       "      <td>236</td>\n",
       "      <td>NaN</td>\n",
       "      <td>5</td>\n",
       "      <td>0.7579</td>\n",
       "      <td>10001</td>\n",
       "      <td>5\\n4</td>\n",
       "      <td>Author is excited about the development of the...</td>\n",
       "      <td>Two places I'd invest all my money if I could:...</td>\n",
       "    </tr>\n",
       "    <tr>\n",
       "      <th>1</th>\n",
       "      <td>724227032</td>\n",
       "      <td>True</td>\n",
       "      <td>golden</td>\n",
       "      <td>231</td>\n",
       "      <td>NaN</td>\n",
       "      <td>5</td>\n",
       "      <td>0.8775</td>\n",
       "      <td>10002</td>\n",
       "      <td>5\\n4</td>\n",
       "      <td>Author is excited that driverless cars will be...</td>\n",
       "      <td>Awesome! Google driverless cars will help the ...</td>\n",
       "    </tr>\n",
       "    <tr>\n",
       "      <th>2</th>\n",
       "      <td>724227033</td>\n",
       "      <td>True</td>\n",
       "      <td>golden</td>\n",
       "      <td>233</td>\n",
       "      <td>NaN</td>\n",
       "      <td>2</td>\n",
       "      <td>0.6805</td>\n",
       "      <td>10003</td>\n",
       "      <td>2\\n1</td>\n",
       "      <td>The author is skeptical of the safety and reli...</td>\n",
       "      <td>If Google maps can't keep up with road constru...</td>\n",
       "    </tr>\n",
       "    <tr>\n",
       "      <th>3</th>\n",
       "      <td>724227034</td>\n",
       "      <td>True</td>\n",
       "      <td>golden</td>\n",
       "      <td>240</td>\n",
       "      <td>NaN</td>\n",
       "      <td>2</td>\n",
       "      <td>0.8820</td>\n",
       "      <td>10004</td>\n",
       "      <td>2\\n1</td>\n",
       "      <td>The author is skeptical of the project's value.</td>\n",
       "      <td>Autonomous cars seem way overhyped given the t...</td>\n",
       "    </tr>\n",
       "    <tr>\n",
       "      <th>4</th>\n",
       "      <td>724227035</td>\n",
       "      <td>True</td>\n",
       "      <td>golden</td>\n",
       "      <td>240</td>\n",
       "      <td>NaN</td>\n",
       "      <td>3</td>\n",
       "      <td>1.0000</td>\n",
       "      <td>10005</td>\n",
       "      <td>3</td>\n",
       "      <td>Author is making an observation without expres...</td>\n",
       "      <td>Just saw Google self-driving car on I-34. It w...</td>\n",
       "    </tr>\n",
       "  </tbody>\n",
       "</table>\n",
       "</div>"
      ],
      "text/plain": [
       "    _unit_id  _golden _unit_state  _trusted_judgments _last_judgment_at  \\\n",
       "0  724227031     True      golden                 236               NaN   \n",
       "1  724227032     True      golden                 231               NaN   \n",
       "2  724227033     True      golden                 233               NaN   \n",
       "3  724227034     True      golden                 240               NaN   \n",
       "4  724227035     True      golden                 240               NaN   \n",
       "\n",
       "  sentiment  sentiment:confidence  our_id sentiment_gold  \\\n",
       "0         5                0.7579   10001           5\\n4   \n",
       "1         5                0.8775   10002           5\\n4   \n",
       "2         2                0.6805   10003           2\\n1   \n",
       "3         2                0.8820   10004           2\\n1   \n",
       "4         3                1.0000   10005              3   \n",
       "\n",
       "                               sentiment_gold_reason  \\\n",
       "0  Author is excited about the development of the...   \n",
       "1  Author is excited that driverless cars will be...   \n",
       "2  The author is skeptical of the safety and reli...   \n",
       "3    The author is skeptical of the project's value.   \n",
       "4  Author is making an observation without expres...   \n",
       "\n",
       "                                                text  \n",
       "0  Two places I'd invest all my money if I could:...  \n",
       "1  Awesome! Google driverless cars will help the ...  \n",
       "2  If Google maps can't keep up with road constru...  \n",
       "3  Autonomous cars seem way overhyped given the t...  \n",
       "4  Just saw Google self-driving car on I-34. It w...  "
      ]
     },
     "execution_count": 3,
     "metadata": {},
     "output_type": "execute_result"
    }
   ],
   "source": [
    "#Observe data\n",
    "data.head()"
   ]
  },
  {
   "cell_type": "code",
   "execution_count": 4,
   "id": "bea21af1",
   "metadata": {},
   "outputs": [
    {
     "data": {
      "text/plain": [
       "_unit_id                  int64\n",
       "_golden                    bool\n",
       "_trusted_judgments        int64\n",
       "_last_judgment_at        object\n",
       "sentiment                object\n",
       "sentiment:confidence    float64\n",
       "our_id                    int64\n",
       "text                     object\n",
       "dtype: object"
      ]
     },
     "execution_count": 4,
     "metadata": {},
     "output_type": "execute_result"
    }
   ],
   "source": [
    "#Excluding the columns of unit state, sentiment gold and sentiment gold reason\n",
    "df = data.drop(['_unit_state','sentiment_gold','sentiment_gold_reason'],axis = 'columns')\n",
    "#Checking the data types of all the columns\n",
    "df.dtypes"
   ]
  },
  {
   "cell_type": "code",
   "execution_count": 5,
   "id": "e2be5a19",
   "metadata": {},
   "outputs": [
    {
     "data": {
      "image/png": "[encoded data removed]",
      "text/plain": [
       "<Figure size 1000x800 with 1 Axes>"
      ]
     },
     "metadata": {},
     "output_type": "display_data"
    }
   ],
   "source": [
    "#Drawing the histogram of sentiment field\n",
    "df['sentiment'].hist(bins=10, figsize=(10, 8))\n",
    "\n",
    "# display the histograms\n",
    "plt.show()"
   ]
  },
  {
   "cell_type": "markdown",
   "id": "9db0fd8a",
   "metadata": {},
   "source": [
    "It can be seen that there is a problem with the sentiment field as it has some non-numeric values of not_relevant. This will cause problem while buiilding model to predict sentiment as it is non-numeric. Also the data type of the column is object which needs to be changed.\n",
    "Hence the rows with not_relevant value have been changed to Nan and then these rows have been dropped as the sentiment has to be rated between 1 to 5."
   ]
  },
  {
   "cell_type": "code",
   "execution_count": 6,
   "id": "d389ea1e",
   "metadata": {},
   "outputs": [],
   "source": [
    "#Replacing not_relevant values of sentiment field with nan.\n",
    "df['sentiment'].replace('not_relevant', float('nan'), inplace=True)\n",
    "\n",
    "#Dropping the rows with null values in sentiment field\n",
    "df.dropna(subset=['sentiment'], inplace=True)\n",
    "\n",
    "#Changing the data type of sentiment column to float\n",
    "df['sentiment'] = df['sentiment'].astype(float)"
   ]
  },
  {
   "cell_type": "code",
   "execution_count": 7,
   "id": "fc9eb0b8",
   "metadata": {},
   "outputs": [
    {
     "data": {
      "image/png": "[encoded data removed]",
      "text/plain": [
       "<Figure size 1000x600 with 1 Axes>"
      ]
     },
     "metadata": {},
     "output_type": "display_data"
    }
   ],
   "source": [
    "# Set figure size\n",
    "plt.figure(figsize=(10, 6))\n",
    "\n",
    "# Plot box plot with custom color and median line\n",
    "sns.boxplot(x='sentiment', data = df, color='skyblue', medianprops={'color':'red'})\n",
    "\n",
    "# Add x-axis label\n",
    "plt.xlabel('Sentiment')\n",
    "\n",
    "# Add y-axis label\n",
    "plt.ylabel('Number of Tweets')\n",
    "\n",
    "# Set plot title\n",
    "plt.title('Distribution of Tweets by Sentiment')\n",
    "\n",
    "# Set font size\n",
    "plt.rcParams.update({'font.size': 12})\n",
    "\n",
    "# Remove top and right spines\n",
    "sns.despine()\n",
    "\n",
    "# Show plot\n",
    "plt.show()"
   ]
  },
  {
   "cell_type": "code",
   "execution_count": 8,
   "id": "d8c2e557",
   "metadata": {},
   "outputs": [
    {
     "data": {
      "text/html": [
       "<div>\n",
       "<style scoped>\n",
       "    .dataframe tbody tr th:only-of-type {\n",
       "        vertical-align: middle;\n",
       "    }\n",
       "\n",
       "    .dataframe tbody tr th {\n",
       "        vertical-align: top;\n",
       "    }\n",
       "\n",
       "    .dataframe thead th {\n",
       "        text-align: right;\n",
       "    }\n",
       "</style>\n",
       "<table border=\"1\" class=\"dataframe\">\n",
       "  <thead>\n",
       "    <tr style=\"text-align: right;\">\n",
       "      <th></th>\n",
       "      <th>count</th>\n",
       "      <th>mean</th>\n",
       "      <th>std</th>\n",
       "      <th>min</th>\n",
       "      <th>25%</th>\n",
       "      <th>50%</th>\n",
       "      <th>75%</th>\n",
       "      <th>max</th>\n",
       "    </tr>\n",
       "  </thead>\n",
       "  <tbody>\n",
       "    <tr>\n",
       "      <th>_unit_id</th>\n",
       "      <td>6943.0</td>\n",
       "      <td>7.243440e+08</td>\n",
       "      <td>232506.698407</td>\n",
       "      <td>7.242270e+08</td>\n",
       "      <td>7.243229e+08</td>\n",
       "      <td>7.243247e+08</td>\n",
       "      <td>724326513.5</td>\n",
       "      <td>726942333.0</td>\n",
       "    </tr>\n",
       "    <tr>\n",
       "      <th>_trusted_judgments</th>\n",
       "      <td>6943.0</td>\n",
       "      <td>5.674204e+00</td>\n",
       "      <td>10.358088</td>\n",
       "      <td>2.000000e+00</td>\n",
       "      <td>3.000000e+00</td>\n",
       "      <td>4.000000e+00</td>\n",
       "      <td>8.0</td>\n",
       "      <td>241.0</td>\n",
       "    </tr>\n",
       "    <tr>\n",
       "      <th>sentiment</th>\n",
       "      <td>6943.0</td>\n",
       "      <td>3.209852e+00</td>\n",
       "      <td>0.768440</td>\n",
       "      <td>1.000000e+00</td>\n",
       "      <td>3.000000e+00</td>\n",
       "      <td>3.000000e+00</td>\n",
       "      <td>4.0</td>\n",
       "      <td>5.0</td>\n",
       "    </tr>\n",
       "    <tr>\n",
       "      <th>sentiment:confidence</th>\n",
       "      <td>6943.0</td>\n",
       "      <td>7.784352e-01</td>\n",
       "      <td>0.203988</td>\n",
       "      <td>2.505000e-01</td>\n",
       "      <td>6.334000e-01</td>\n",
       "      <td>7.539000e-01</td>\n",
       "      <td>1.0</td>\n",
       "      <td>1.0</td>\n",
       "    </tr>\n",
       "    <tr>\n",
       "      <th>our_id</th>\n",
       "      <td>6943.0</td>\n",
       "      <td>3.593300e+03</td>\n",
       "      <td>2113.448199</td>\n",
       "      <td>1.000000e+00</td>\n",
       "      <td>1.801500e+03</td>\n",
       "      <td>3.564000e+03</td>\n",
       "      <td>5331.5</td>\n",
       "      <td>10067.0</td>\n",
       "    </tr>\n",
       "  </tbody>\n",
       "</table>\n",
       "</div>"
      ],
      "text/plain": [
       "                       count          mean            std           min  \\\n",
       "_unit_id              6943.0  7.243440e+08  232506.698407  7.242270e+08   \n",
       "_trusted_judgments    6943.0  5.674204e+00      10.358088  2.000000e+00   \n",
       "sentiment             6943.0  3.209852e+00       0.768440  1.000000e+00   \n",
       "sentiment:confidence  6943.0  7.784352e-01       0.203988  2.505000e-01   \n",
       "our_id                6943.0  3.593300e+03    2113.448199  1.000000e+00   \n",
       "\n",
       "                               25%           50%          75%          max  \n",
       "_unit_id              7.243229e+08  7.243247e+08  724326513.5  726942333.0  \n",
       "_trusted_judgments    3.000000e+00  4.000000e+00          8.0        241.0  \n",
       "sentiment             3.000000e+00  3.000000e+00          4.0          5.0  \n",
       "sentiment:confidence  6.334000e-01  7.539000e-01          1.0          1.0  \n",
       "our_id                1.801500e+03  3.564000e+03       5331.5      10067.0  "
      ]
     },
     "execution_count": 8,
     "metadata": {},
     "output_type": "execute_result"
    }
   ],
   "source": [
    "#Observing the summary statistics of the dataset (numerical columns)\n",
    "numerical_cols = df.select_dtypes(include='number').columns\n",
    "df[numerical_cols].describe().transpose()"
   ]
  },
  {
   "cell_type": "code",
   "execution_count": 9,
   "id": "7cdc45bb",
   "metadata": {},
   "outputs": [
    {
     "data": {
      "image/png": "[encoded data removed]",
      "text/plain": [
       "<Figure size 1000x800 with 6 Axes>"
      ]
     },
     "metadata": {},
     "output_type": "display_data"
    }
   ],
   "source": [
    "# create histograms of all numerical columns\n",
    "df[numerical_cols].hist(bins=10, figsize=(10, 8))\n",
    "\n",
    "# display the histograms\n",
    "plt.show()"
   ]
  },
  {
   "cell_type": "code",
   "execution_count": 10,
   "id": "39e3be0a",
   "metadata": {},
   "outputs": [
    {
     "data": {
      "text/plain": [
       "_unit_id                 0\n",
       "_golden                  0\n",
       "_trusted_judgments       0\n",
       "_last_judgment_at       64\n",
       "sentiment                0\n",
       "sentiment:confidence     0\n",
       "our_id                   0\n",
       "text                     0\n",
       "dtype: int64"
      ]
     },
     "execution_count": 10,
     "metadata": {},
     "output_type": "execute_result"
    }
   ],
   "source": [
    "#Checking for null values in the dataset\n",
    "df.isnull().sum()"
   ]
  },
  {
   "cell_type": "markdown",
   "id": "c42433be",
   "metadata": {},
   "source": [
    "Task 2: Tokenize the Tweets in the text field for analysis. Remove the punctuation and hashtags. \n",
    "Perform stemming or lemmatization to get the roots of the tokens. Show the most common \n",
    "roots overall for all of the tweets. You should exclude stopwords and the frequent words/\n",
    "phrases like “self-driving cars” that do not help in the prediction task. "
   ]
  },
  {
   "cell_type": "code",
   "execution_count": 11,
   "id": "1333e75c",
   "metadata": {},
   "outputs": [
    {
     "name": "stdout",
     "output_type": "stream",
     "text": [
      "Most common roots overall for all the tweets\n",
      "\n",
      "[('google', 2947), ('driverless', 1860), ('vehicle', 359), ('autonomous', 354), ('future', 301), ('drive', 290), ('one', 283), ('road', 260), ('driver', 250), ('need', 234), ('uber', 234), ('new', 233), ('would', 232), ('could', 229), ('see', 211), ('want', 208), ('via', 208), ('rt', 205), ('make', 201), ('california', 200)]\n"
     ]
    }
   ],
   "source": [
    "# Define a function to preprocess the text data\n",
    "def preprocess_text(text):\n",
    "    # remove punctuation and hashtags\n",
    "    text = re.sub(r'[^\\w\\s#]', '', text)\n",
    "    text = re.sub(r'#\\w+', '', text)\n",
    "    #ignoring the ascii characters\n",
    "    text = text.encode('ascii', 'ignore').decode()\n",
    "    # Convert text to lowercase\n",
    "    text = text.lower()\n",
    "    # Tokenize the text into words\n",
    "    words = word_tokenize(text)\n",
    "    # Remove stopwords\n",
    "    stop_words = set(stopwords.words('english'))\n",
    "    stop_words.update(['get', 'saw', 'like'])\n",
    "    words = [word for word in words if word not in stop_words]\n",
    "    # Perform lemmatization to get the root of each word\n",
    "    lemmatizer = WordNetLemmatizer()\n",
    "    words = [lemmatizer.lemmatize(word) for word in words]\n",
    "    # Exclude frequent words/phrases like \"self-driving cars\"\n",
    "    freq_words = ['selfdriving', 'selfdriving car', 'selfdriving cars', 'self', 'driving', 'car', 'cars']\n",
    "    words = [word for word in words if word not in freq_words]\n",
    "    return words\n",
    "\n",
    "# Apply the preprocessing function to the text column\n",
    "df['preprocess'] = df['text'].apply(preprocess_text)\n",
    "\n",
    "# Flatten the list of tokens into a single list\n",
    "tokens_list = [word for tokens in df['preprocess'] for word in tokens]\n",
    "\n",
    "# Calculate the frequency of each token\n",
    "token_frequency = nltk.FreqDist(tokens_list)\n",
    "\n",
    "# Show the most common roots overall\n",
    "print(\"Most common roots overall for all the tweets\\n\")\n",
    "print(token_frequency.most_common(20))"
   ]
  },
  {
   "cell_type": "markdown",
   "id": "8faad9b1",
   "metadata": {},
   "source": [
    "Task 3: Create a model to predict what sentiment a Tweet will be given on the 1-5 scale. Note that \n",
    "you do not have to run any sentiment analysis packages (e.g. Vader or TextBlob) to build this \n",
    "model, just use the stemmed/lemmatized words in the text field as predictors of the sentiment \n",
    "score . What are the 10 top stemmed/lemmatized words for each sentiment rating? "
   ]
  },
  {
   "cell_type": "markdown",
   "id": "e4a44a09",
   "metadata": {},
   "source": [
    "Model 1: Naive Bayes classifier"
   ]
  },
  {
   "cell_type": "code",
   "execution_count": 12,
   "id": "a677f4bc",
   "metadata": {},
   "outputs": [
    {
     "name": "stdout",
     "output_type": "stream",
     "text": [
      "Top words for sentiment 1: driverless, would, google, never, dont, want, fuck, wtf, hell, crash\n",
      "Top words for sentiment 2: google, driverless, dont, driver, think, people, one, drive, go, need\n",
      "Top words for sentiment 3: google, driverless, vehicle, autonomous, uber, future, road, new, first, california\n",
      "Top words for sentiment 4: google, driverless, cool, one, need, im, cant, drive, would, future\n",
      "Top words for sentiment 5: google, driverless, awesome, want, cant, wait, cool, one, love, drive\n"
     ]
    },
    {
     "name": "stderr",
     "output_type": "stream",
     "text": [
      "/Users/siddhesh/opt/anaconda3/lib/python3.9/site-packages/sklearn/utils/deprecation.py:103: FutureWarning: Attribute `coef_` was deprecated in version 0.24 and will be removed in 1.1 (renaming of 0.26).\n",
      "  warnings.warn(msg, category=FutureWarning)\n"
     ]
    }
   ],
   "source": [
    "# Split data into training and testing sets\n",
    "X = df['preprocess'].apply(lambda tokens: ' '.join(tokens))\n",
    "y = df['sentiment']\n",
    "X_train, X_test, y_train, y_test = train_test_split(X, y, test_size=0.2, random_state=42)\n",
    "\n",
    "# Vectorize text data\n",
    "vectorizer = TfidfVectorizer()\n",
    "X_train_vectorized = vectorizer.fit_transform(X_train)\n",
    "X_test_vectorized = vectorizer.transform(X_test)\n",
    "\n",
    "# Train model\n",
    "model = MultinomialNB(alpha=0.1)\n",
    "model.fit(X_train_vectorized, y_train)\n",
    "\n",
    "# Make predictions\n",
    "y_pred = model.predict(X_test_vectorized)\n",
    "\n",
    "# Get top words for each sentiment rating\n",
    "feature_names = vectorizer.get_feature_names_out()\n",
    "coefficients = model.coef_\n",
    "\n",
    "for i in range(1, 6):\n",
    "    top_features = np.argsort(coefficients[i-1])[-10:]\n",
    "    print(\"Top words for sentiment {}: {}\".format(i, ', '.join([feature_names[j] for j in top_features[::-1]])))"
   ]
  },
  {
   "cell_type": "code",
   "execution_count": 13,
   "id": "804427b2",
   "metadata": {},
   "outputs": [
    {
     "name": "stdout",
     "output_type": "stream",
     "text": [
      "Accuracy: 64.36%\n",
      "Confusion Matrix:\n",
      "\n",
      "[[  0   3  14   5   0]\n",
      " [  0  16  85  21   0]\n",
      " [  0  17 800  49   3]\n",
      " [  0   3 206  73   6]\n",
      " [  0   0  43  40   5]]\n",
      "Classification Report:\n",
      "\n",
      "              precision    recall  f1-score   support\n",
      "\n",
      "         1.0       0.00      0.00      0.00        22\n",
      "         2.0       0.41      0.13      0.20       122\n",
      "         3.0       0.70      0.92      0.79       869\n",
      "         4.0       0.39      0.25      0.31       288\n",
      "         5.0       0.36      0.06      0.10        88\n",
      "\n",
      "    accuracy                           0.64      1389\n",
      "   macro avg       0.37      0.27      0.28      1389\n",
      "weighted avg       0.58      0.64      0.58      1389\n",
      "\n"
     ]
    },
    {
     "name": "stderr",
     "output_type": "stream",
     "text": [
      "/Users/siddhesh/opt/anaconda3/lib/python3.9/site-packages/sklearn/metrics/_classification.py:1318: UndefinedMetricWarning: Precision and F-score are ill-defined and being set to 0.0 in labels with no predicted samples. Use `zero_division` parameter to control this behavior.\n",
      "  _warn_prf(average, modifier, msg_start, len(result))\n",
      "/Users/siddhesh/opt/anaconda3/lib/python3.9/site-packages/sklearn/metrics/_classification.py:1318: UndefinedMetricWarning: Precision and F-score are ill-defined and being set to 0.0 in labels with no predicted samples. Use `zero_division` parameter to control this behavior.\n",
      "  _warn_prf(average, modifier, msg_start, len(result))\n",
      "/Users/siddhesh/opt/anaconda3/lib/python3.9/site-packages/sklearn/metrics/_classification.py:1318: UndefinedMetricWarning: Precision and F-score are ill-defined and being set to 0.0 in labels with no predicted samples. Use `zero_division` parameter to control this behavior.\n",
      "  _warn_prf(average, modifier, msg_start, len(result))\n"
     ]
    }
   ],
   "source": [
    "# Evaluate model\n",
    "accuracy = accuracy_score(y_test, y_pred)\n",
    "print(\"Accuracy: {:.2f}%\".format(accuracy * 100))\n",
    "\n",
    "#print the confusion matrix\n",
    "print(\"Confusion Matrix:\\n\")\n",
    "print(confusion_matrix(y_test, y_pred))\n",
    "\n",
    "#printi the classification report\n",
    "print(\"Classification Report:\\n\")\n",
    "print(classification_report(y_test, y_pred))"
   ]
  },
  {
   "cell_type": "markdown",
   "id": "96094d2d",
   "metadata": {},
   "source": [
    "Model 2: Logistic Regression"
   ]
  },
  {
   "cell_type": "code",
   "execution_count": 14,
   "id": "debcf813",
   "metadata": {},
   "outputs": [
    {
     "name": "stdout",
     "output_type": "stream",
     "text": [
      "Top words for sentiment 1: would, never, wtf, fuck, hell, crash, dont, driverless, trust, cause\n",
      "Top words for sentiment 2: dont, doesnt, scare, problem, flaw, creepy, fbi, government, unemployment, point\n",
      "Top words for sentiment 3: uber, wonder, apple, automated, spotted, get, here, inside, permit, google\n",
      "Top words for sentiment 4: cool, wish, hurry, im, best, wow, better, thanks, pretty, nice\n",
      "Top words for sentiment 5: awesome, amazing, excited, cool, wait, love, want, yes, incredible, exciting\n"
     ]
    }
   ],
   "source": [
    "# Train model\n",
    "lr = LogisticRegression(max_iter=1000)\n",
    "lr.fit(X_train_vectorized, y_train)\n",
    "\n",
    "# Make predictions\n",
    "y_pred_lr = lr.predict(X_test_vectorized)\n",
    "\n",
    "\n",
    "# Get top words for each sentiment rating\n",
    "feature_names_lr = vectorizer.get_feature_names_out()\n",
    "coefficients_lr = lr.coef_\n",
    "\n",
    "for i in range(1, 6):\n",
    "    top_features_lr = np.argsort(coefficients_lr[i-1])[-10:]\n",
    "    print(\"Top words for sentiment {}: {}\".format(i, ', '.join([feature_names_lr[j] for j in top_features_lr[::-1]])))"
   ]
  },
  {
   "cell_type": "code",
   "execution_count": 15,
   "id": "f124f40f",
   "metadata": {},
   "outputs": [
    {
     "name": "stdout",
     "output_type": "stream",
     "text": [
      "Accuracy: 66.81%\n",
      "Confusion Matrix:\n",
      "\n",
      "[[  0   3  14   5   0]\n",
      " [  0  16  85  21   0]\n",
      " [  0  17 800  49   3]\n",
      " [  0   3 206  73   6]\n",
      " [  0   0  43  40   5]]\n",
      "Classification Report:\n",
      "\n",
      "              precision    recall  f1-score   support\n",
      "\n",
      "         1.0       0.00      0.00      0.00        22\n",
      "         2.0       0.35      0.06      0.10       122\n",
      "         3.0       0.71      0.95      0.81       869\n",
      "         4.0       0.45      0.28      0.35       288\n",
      "         5.0       0.73      0.12      0.21        88\n",
      "\n",
      "    accuracy                           0.67      1389\n",
      "   macro avg       0.45      0.28      0.29      1389\n",
      "weighted avg       0.61      0.67      0.60      1389\n",
      "\n"
     ]
    },
    {
     "name": "stderr",
     "output_type": "stream",
     "text": [
      "/Users/siddhesh/opt/anaconda3/lib/python3.9/site-packages/sklearn/metrics/_classification.py:1318: UndefinedMetricWarning: Precision and F-score are ill-defined and being set to 0.0 in labels with no predicted samples. Use `zero_division` parameter to control this behavior.\n",
      "  _warn_prf(average, modifier, msg_start, len(result))\n",
      "/Users/siddhesh/opt/anaconda3/lib/python3.9/site-packages/sklearn/metrics/_classification.py:1318: UndefinedMetricWarning: Precision and F-score are ill-defined and being set to 0.0 in labels with no predicted samples. Use `zero_division` parameter to control this behavior.\n",
      "  _warn_prf(average, modifier, msg_start, len(result))\n",
      "/Users/siddhesh/opt/anaconda3/lib/python3.9/site-packages/sklearn/metrics/_classification.py:1318: UndefinedMetricWarning: Precision and F-score are ill-defined and being set to 0.0 in labels with no predicted samples. Use `zero_division` parameter to control this behavior.\n",
      "  _warn_prf(average, modifier, msg_start, len(result))\n"
     ]
    }
   ],
   "source": [
    "# Evaluate model\n",
    "accuracy_lr = accuracy_score(y_test, y_pred_lr)\n",
    "print(\"Accuracy: {:.2f}%\".format(accuracy_lr * 100))\n",
    "\n",
    "#print the confusion matrix\n",
    "print(\"Confusion Matrix:\\n\")\n",
    "print(confusion_matrix(y_test, y_pred))\n",
    "\n",
    "#print the classification report\n",
    "print(\"Classification Report:\\n\")\n",
    "print(classification_report(y_test, y_pred_lr))"
   ]
  },
  {
   "cell_type": "markdown",
   "id": "43a49453",
   "metadata": {},
   "source": [
    "It can be seen that Model 2 (logistic regression) performs better as compared to the naive bayes classifier.\n",
    "Looking at the confusion matrix of model-2, the model seems to perform poorly in predicting the first and fifth sentiment classes, with an F1-score of 0 for sentiment 1 and an F1-score of 0.21 for sentiment 5. This suggests that the model is struggling to distinguish between these classes and is misclassifying some of the tweets. This is because we observed in EDA that there is very less data available for sentiments 1 and 5.\n",
    "\n",
    "To improve the model's performance, we can try the following:\n",
    "\n",
    "1. Perform sentiment analysis using TextBlob and Vader. It will help in gaining a better understanding of the sentiment in the text. Using TextBlob or Vader can be beneficial as they can provide a quick and easy way to perform sentiment analysis on a large amount of text data.\n",
    "\n",
    "2. Collect more data: It's possible that the model is not able to capture the nuances of sentiment in tweets due to a lack of sufficient data. Collecting more data could help to improve the model's performance.\n",
    "\n",
    "3. Improve text preprocessing: The preprocessing steps such as stemming/lemmatization, removing stop words, and removing punctuation can have a significant impact on the model's performance. Experimenting with different preprocessing techniques may lead to better results.\n",
    "\n",
    "4. Experiment with different models: We can try different machine learning models such as neural networks, support vector machines (SVM), or gradient boosting to see if they perform better than the current models.\n",
    "\n",
    "5. Feature selection: We can experiment with selecting the most important features, i.e. words, by using techniques such as chi-squared test or mutual information to improve the model's performance.\n"
   ]
  }
 ],
 "metadata": {
  "kernelspec": {
   "display_name": "Python 3 (ipykernel)",
   "language": "python",
   "name": "python3"
  },
  "language_info": {
   "codemirror_mode": {
    "name": "ipython",
    "version": 3
   },
   "file_extension": ".py",
   "mimetype": "text/x-python",
   "name": "python",
   "nbconvert_exporter": "python",
   "pygments_lexer": "ipython3",
   "version": "3.9.13"
  }
 },
 "nbformat": 4,
 "nbformat_minor": 5
}
